{
 "cells": [
  {
   "cell_type": "code",
   "execution_count": 2,
   "id": "79cce2c6",
   "metadata": {},
   "outputs": [],
   "source": [
    "import pandas as pd\n",
    "import csv"
   ]
  },
  {
   "cell_type": "code",
   "execution_count": 3,
   "id": "113d39b5",
   "metadata": {
    "scrolled": true
   },
   "outputs": [
    {
     "data": {
      "text/html": [
       "<div>\n",
       "<style scoped>\n",
       "    .dataframe tbody tr th:only-of-type {\n",
       "        vertical-align: middle;\n",
       "    }\n",
       "\n",
       "    .dataframe tbody tr th {\n",
       "        vertical-align: top;\n",
       "    }\n",
       "\n",
       "    .dataframe thead th {\n",
       "        text-align: right;\n",
       "    }\n",
       "</style>\n",
       "<table border=\"1\" class=\"dataframe\">\n",
       "  <thead>\n",
       "    <tr style=\"text-align: right;\">\n",
       "      <th></th>\n",
       "      <th>age</th>\n",
       "      <th>gender</th>\n",
       "      <th>condition</th>\n",
       "      <th>rating</th>\n",
       "      <th>review_long</th>\n",
       "      <th>review_short</th>\n",
       "    </tr>\n",
       "  </thead>\n",
       "  <tbody>\n",
       "    <tr>\n",
       "      <th>0</th>\n",
       "      <td>[' 35-44 |  ']</td>\n",
       "      <td>['  ']</td>\n",
       "      <td>[' Condition: Other ']</td>\n",
       "      <td>[' Overall rating 2.7 ']</td>\n",
       "      <td>[]</td>\n",
       "      <td>[\"Benadryl when I was younger gave me no side ...</td>\n",
       "    </tr>\n",
       "    <tr>\n",
       "      <th>1</th>\n",
       "      <td>[' 75 or over |  ']</td>\n",
       "      <td>[' Male |  ']</td>\n",
       "      <td>[' Condition: Reaction due to an Allergy ']</td>\n",
       "      <td>[' Overall rating 2.0 ']</td>\n",
       "      <td>[]</td>\n",
       "      <td>['I will not take Benedryl again. Two Harvard ...</td>\n",
       "    </tr>\n",
       "    <tr>\n",
       "      <th>2</th>\n",
       "      <td>[' 65-74 |  ']</td>\n",
       "      <td>[' Female |  ']</td>\n",
       "      <td>[' Condition: Chronic Trouble Sleeping ']</td>\n",
       "      <td>[' Overall rating 1.0 ']</td>\n",
       "      <td>[]</td>\n",
       "      <td>['I have long QT SYNDROME and found that Benad...</td>\n",
       "    </tr>\n",
       "    <tr>\n",
       "      <th>3</th>\n",
       "      <td>[' 19-24 |  ']</td>\n",
       "      <td>[' Female |  ']</td>\n",
       "      <td>[' Condition: Reaction due to an Allergy ']</td>\n",
       "      <td>[' Overall rating 3.7 ']</td>\n",
       "      <td>[\"I've been using this medication for the past...</td>\n",
       "      <td>[]</td>\n",
       "    </tr>\n",
       "    <tr>\n",
       "      <th>4</th>\n",
       "      <td>[' 45-54 |  ']</td>\n",
       "      <td>[' Female |  ']</td>\n",
       "      <td>[' Condition: Life Threatening Allergic Reacti...</td>\n",
       "      <td>[' Overall rating 5.0 ']</td>\n",
       "      <td>[]</td>\n",
       "      <td>['Benadryl saves My Life Everytime I have a ba...</td>\n",
       "    </tr>\n",
       "    <tr>\n",
       "      <th>5</th>\n",
       "      <td>[' 55-64 |  ']</td>\n",
       "      <td>[' Male |  ']</td>\n",
       "      <td>[' Condition: Stuffy Nose ']</td>\n",
       "      <td>[' Overall rating 4.7 ']</td>\n",
       "      <td>[]</td>\n",
       "      <td>['It helps keep my allergies under control and...</td>\n",
       "    </tr>\n",
       "    <tr>\n",
       "      <th>6</th>\n",
       "      <td>[' 55-64 |  ']</td>\n",
       "      <td>[' Male |  ']</td>\n",
       "      <td>[' Condition: Hives ']</td>\n",
       "      <td>[' Overall rating 4.7 ']</td>\n",
       "      <td>[]</td>\n",
       "      <td>['Had hives related to a bacterial infection i...</td>\n",
       "    </tr>\n",
       "    <tr>\n",
       "      <th>7</th>\n",
       "      <td>[' 75 or over |  ']</td>\n",
       "      <td>['  ']</td>\n",
       "      <td>[' Condition: Reaction due to an Allergy ']</td>\n",
       "      <td>[' Overall rating 3.0 ']</td>\n",
       "      <td>[]</td>\n",
       "      <td>['I often get a runny nose, especially in high...</td>\n",
       "    </tr>\n",
       "    <tr>\n",
       "      <th>8</th>\n",
       "      <td>[' 65-74 |  ']</td>\n",
       "      <td>[' Female |  ']</td>\n",
       "      <td>[' Condition: Other ']</td>\n",
       "      <td>[' Overall rating 2.7 ']</td>\n",
       "      <td>[]</td>\n",
       "      <td>['I just took a benadryl quick dissolve strip ...</td>\n",
       "    </tr>\n",
       "    <tr>\n",
       "      <th>9</th>\n",
       "      <td>[' 55-64 |  ']</td>\n",
       "      <td>[' Male |  ']</td>\n",
       "      <td>[' Condition: Other ']</td>\n",
       "      <td>[' Overall rating 5.0 ']</td>\n",
       "      <td>[\"I have taken Tylenol PM.  One pill has 25 mg...</td>\n",
       "      <td>[]</td>\n",
       "    </tr>\n",
       "  </tbody>\n",
       "</table>\n",
       "</div>"
      ],
      "text/plain": [
       "                   age           gender  \\\n",
       "0       [' 35-44 |  ']           ['  ']   \n",
       "1  [' 75 or over |  ']    [' Male |  ']   \n",
       "2       [' 65-74 |  ']  [' Female |  ']   \n",
       "3       [' 19-24 |  ']  [' Female |  ']   \n",
       "4       [' 45-54 |  ']  [' Female |  ']   \n",
       "5       [' 55-64 |  ']    [' Male |  ']   \n",
       "6       [' 55-64 |  ']    [' Male |  ']   \n",
       "7  [' 75 or over |  ']           ['  ']   \n",
       "8       [' 65-74 |  ']  [' Female |  ']   \n",
       "9       [' 55-64 |  ']    [' Male |  ']   \n",
       "\n",
       "                                           condition  \\\n",
       "0                             [' Condition: Other ']   \n",
       "1        [' Condition: Reaction due to an Allergy ']   \n",
       "2          [' Condition: Chronic Trouble Sleeping ']   \n",
       "3        [' Condition: Reaction due to an Allergy ']   \n",
       "4  [' Condition: Life Threatening Allergic Reacti...   \n",
       "5                       [' Condition: Stuffy Nose ']   \n",
       "6                             [' Condition: Hives ']   \n",
       "7        [' Condition: Reaction due to an Allergy ']   \n",
       "8                             [' Condition: Other ']   \n",
       "9                             [' Condition: Other ']   \n",
       "\n",
       "                     rating  \\\n",
       "0  [' Overall rating 2.7 ']   \n",
       "1  [' Overall rating 2.0 ']   \n",
       "2  [' Overall rating 1.0 ']   \n",
       "3  [' Overall rating 3.7 ']   \n",
       "4  [' Overall rating 5.0 ']   \n",
       "5  [' Overall rating 4.7 ']   \n",
       "6  [' Overall rating 4.7 ']   \n",
       "7  [' Overall rating 3.0 ']   \n",
       "8  [' Overall rating 2.7 ']   \n",
       "9  [' Overall rating 5.0 ']   \n",
       "\n",
       "                                         review_long  \\\n",
       "0                                                 []   \n",
       "1                                                 []   \n",
       "2                                                 []   \n",
       "3  [\"I've been using this medication for the past...   \n",
       "4                                                 []   \n",
       "5                                                 []   \n",
       "6                                                 []   \n",
       "7                                                 []   \n",
       "8                                                 []   \n",
       "9  [\"I have taken Tylenol PM.  One pill has 25 mg...   \n",
       "\n",
       "                                        review_short  \n",
       "0  [\"Benadryl when I was younger gave me no side ...  \n",
       "1  ['I will not take Benedryl again. Two Harvard ...  \n",
       "2  ['I have long QT SYNDROME and found that Benad...  \n",
       "3                                                 []  \n",
       "4  ['Benadryl saves My Life Everytime I have a ba...  \n",
       "5  ['It helps keep my allergies under control and...  \n",
       "6  ['Had hives related to a bacterial infection i...  \n",
       "7  ['I often get a runny nose, especially in high...  \n",
       "8  ['I just took a benadryl quick dissolve strip ...  \n",
       "9                                                 []  "
      ]
     },
     "execution_count": 3,
     "metadata": {},
     "output_type": "execute_result"
    }
   ],
   "source": [
    "reviews = pd.read_csv('MedicineReviews.csv')\n",
    "reviews.head(10)"
   ]
  },
  {
   "cell_type": "code",
   "execution_count": 5,
   "id": "e05a43e3",
   "metadata": {},
   "outputs": [
    {
     "name": "stdout",
     "output_type": "stream",
     "text": [
      "Collecting pyautogui\n",
      "  Using cached PyAutoGUI-0.9.53-py3-none-any.whl\n",
      "Collecting pymsgbox\n",
      "  Using cached PyMsgBox-1.0.9-py3-none-any.whl\n",
      "Collecting pyscreeze>=0.1.21\n",
      "  Using cached PyScreeze-0.1.28-py3-none-any.whl\n",
      "Collecting pygetwindow>=0.0.5\n",
      "  Using cached PyGetWindow-0.0.9-py3-none-any.whl\n",
      "Collecting mouseinfoNote: you may need to restart the kernel to use updated packages.\n",
      "  Using cached MouseInfo-0.1.3-py3-none-any.whl\n",
      "Collecting PyTweening>=1.0.1\n",
      "  Using cached pytweening-1.0.4-py3-none-any.whl\n",
      "Collecting pyrect\n",
      "  Using cached PyRect-0.2.0-py2.py3-none-any.whl\n",
      "Collecting pyperclip\n",
      "  Using cached pyperclip-1.8.2-py3-none-any.whl\n",
      "Installing collected packages: pyrect, pyperclip, PyTweening, pyscreeze, pymsgbox, pygetwindow, mouseinfo, pyautogui\n",
      "Successfully installed PyTweening-1.0.4 mouseinfo-0.1.3 pyautogui-0.9.53 pygetwindow-0.0.9 pymsgbox-1.0.9 pyperclip-1.8.2 pyrect-0.2.0 pyscreeze-0.1.28\n",
      "\n"
     ]
    }
   ],
   "source": [
    "pip install pyautogui"
   ]
  },
  {
   "cell_type": "code",
   "execution_count": 6,
   "id": "026f5d9a",
   "metadata": {},
   "outputs": [
    {
     "name": "stdout",
     "output_type": "stream",
     "text": [
      "Note: you may need to restart the kernel to use updated packages.\n"
     ]
    },
    {
     "name": "stderr",
     "output_type": "stream",
     "text": [
      "ERROR: Could not find a version that satisfies the requirement time (from versions: none)\n",
      "ERROR: No matching distribution found for time\n"
     ]
    }
   ],
   "source": [
    "pip install time"
   ]
  },
  {
   "cell_type": "code",
   "execution_count": 8,
   "id": "87e6eee2",
   "metadata": {},
   "outputs": [
    {
     "ename": "KeyboardInterrupt",
     "evalue": "",
     "output_type": "error",
     "traceback": [
      "\u001b[1;31m---------------------------------------------------------------------------\u001b[0m",
      "\u001b[1;31mKeyboardInterrupt\u001b[0m                         Traceback (most recent call last)",
      "Input \u001b[1;32mIn [8]\u001b[0m, in \u001b[0;36m<cell line: 5>\u001b[1;34m()\u001b[0m\n\u001b[0;32m      4\u001b[0m \u001b[38;5;28;01mwhile\u001b[39;00m \u001b[38;5;28;01mTrue\u001b[39;00m:\n\u001b[0;32m      5\u001b[0m     pyautogui\u001b[38;5;241m.\u001b[39mmoveRel(\u001b[38;5;241m0\u001b[39m, \u001b[38;5;241m10\u001b[39m)\n\u001b[1;32m----> 6\u001b[0m     \u001b[43mtime\u001b[49m\u001b[38;5;241;43m.\u001b[39;49m\u001b[43msleep\u001b[49m\u001b[43m(\u001b[49m\u001b[38;5;241;43m2\u001b[39;49m\u001b[43m)\u001b[49m\n",
      "\u001b[1;31mKeyboardInterrupt\u001b[0m: "
     ]
    }
   ],
   "source": []
  },
  {
   "cell_type": "code",
   "execution_count": null,
   "id": "211713a9",
   "metadata": {},
   "outputs": [],
   "source": []
  }
 ],
 "metadata": {
  "kernelspec": {
   "display_name": "Python 3 (ipykernel)",
   "language": "python",
   "name": "python3"
  },
  "language_info": {
   "codemirror_mode": {
    "name": "ipython",
    "version": 3
   },
   "file_extension": ".py",
   "mimetype": "text/x-python",
   "name": "python",
   "nbconvert_exporter": "python",
   "pygments_lexer": "ipython3",
   "version": "3.9.7"
  }
 },
 "nbformat": 4,
 "nbformat_minor": 5
}
